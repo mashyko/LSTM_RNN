{
  "nbformat": 4,
  "nbformat_minor": 0,
  "metadata": {
    "kernelspec": {
      "display_name": "Python 3",
      "language": "python",
      "name": "python3"
    },
    "language_info": {
      "codemirror_mode": {
        "name": "ipython",
        "version": 3
      },
      "file_extension": ".py",
      "mimetype": "text/x-python",
      "name": "python",
      "nbconvert_exporter": "python",
      "pygments_lexer": "ipython3",
      "version": "3.7.4"
    },
    "colab": {
      "name": "RNN_pytorch.ipynb",
      "provenance": [],
      "collapsed_sections": [],
      "include_colab_link": true
    }
  },
  "cells": [
    {
      "cell_type": "markdown",
      "metadata": {
        "id": "view-in-github",
        "colab_type": "text"
      },
      "source": [
        "<a href=\"https://colab.research.google.com/github/mashyko/LSTM_RNN/blob/master/RNN_pytorch.ipynb\" target=\"_parent\"><img src=\"https://colab.research.google.com/assets/colab-badge.svg\" alt=\"Open In Colab\"/></a>"
      ]
    },
    {
      "cell_type": "markdown",
      "metadata": {
        "id": "Hrii-y2ukpb0",
        "colab_type": "text"
      },
      "source": [
        "# simple RNN character model with PyTorch \n",
        "\n",
        " adopted from https://github.com/gabrielloye/RNN-walkthrough"
      ]
    },
    {
      "cell_type": "markdown",
      "metadata": {
        "id": "miRlxGByQi0h",
        "colab_type": "text"
      },
      "source": [
        "Welcome to this notebook where we'll be implementing a simple RNN character model with PyTorch to familiarize ourselves with the PyTorch library and get started with RNNs. You can run the code we’re using on FloydHub by clicking the button below and creating the project as well.\n"
      ]
    },
    {
      "cell_type": "markdown",
      "metadata": {
        "id": "RpsrkcxQQi0i",
        "colab_type": "text"
      },
      "source": [
        "In this implementation, we'll be building a model that can complete your sentence based on a few characters or a word used as input.\n",
        "\n",
        "To keep this short and simple, we won't be using any large or external datasets. Instead, we'll just be defining a few sentences to see how the model learns from these sentences. "
      ]
    },
    {
      "cell_type": "code",
      "metadata": {
        "id": "7D2CavTdQi0j",
        "colab_type": "code",
        "colab": {}
      },
      "source": [
        "import torch\n",
        "from torch import nn\n",
        "\n",
        "import numpy as np"
      ],
      "execution_count": 0,
      "outputs": []
    },
    {
      "cell_type": "markdown",
      "metadata": {
        "id": "zIWDs3_zQi0o",
        "colab_type": "text"
      },
      "source": [
        "First, we'll define the sentences that we want our model to output when fed with the first word or the first few characters.\n",
        "\n",
        "Then we'll create a dictionary out of all the characters that we have in the sentences and map them to an integer. This will allow us to convert our input characters to their respective integers (*char2int*) and vice versa (*int2char*)."
      ]
    },
    {
      "cell_type": "code",
      "metadata": {
        "id": "6R9_lJoHQi0p",
        "colab_type": "code",
        "colab": {}
      },
      "source": [
        "text = ['hey guys', 'good morning', 'how are you','fine, and you', 'i am fine too','have a nice day']\n",
        "\n",
        "# Join all the sentences together and extract the unique characters from the combined sentences\n",
        "chars = set(''.join(text))\n",
        "\n",
        "# Creating a dictionary that maps integers to the characters\n",
        "int2char = dict(enumerate(chars))\n",
        "\n",
        "# Creating another dictionary that maps characters to integers\n",
        "char2int = {char: ind for ind, char in int2char.items()}"
      ],
      "execution_count": 0,
      "outputs": []
    },
    {
      "cell_type": "code",
      "metadata": {
        "id": "vIWxQa7sQi0s",
        "colab_type": "code",
        "outputId": "3ce13c7c-02d9-49d4-8d04-128981914a0e",
        "colab": {
          "base_uri": "https://localhost:8080/",
          "height": 34
        }
      },
      "source": [
        "print(char2int)"
      ],
      "execution_count": 0,
      "outputs": [
        {
          "output_type": "stream",
          "text": [
            "{'n': 0, 'h': 1, 'e': 2, 'r': 3, 'a': 4, 't': 5, 'y': 6, 'g': 7, 's': 8, 'm': 9, 'i': 10, 'u': 11, 'f': 12, 'w': 13, 'c': 14, ' ': 15, 'd': 16, 'v': 17, ',': 18, 'o': 19}\n"
          ],
          "name": "stdout"
        }
      ]
    },
    {
      "cell_type": "markdown",
      "metadata": {
        "id": "_7GjvoqPQi0w",
        "colab_type": "text"
      },
      "source": [
        "Next, we'll be padding our input sentences to ensure that all the sentences are of the sample length. While RNNs are typically able to take in variably sized inputs, we will usually want to feed training data in batches to speed up the training process. In order to used batches to train on our data, we'll need to ensure that each sequence within the input data are of equal size.\n",
        "\n",
        "Therefore, in most cases, padding can be done by filling up sequences that are too short with **0** values and trimming sequences that are too long. In our case, we'll be finding the length of the longest sequence and padding the rest of the sentences with blank spaces to match that length."
      ]
    },
    {
      "cell_type": "code",
      "metadata": {
        "id": "vrSSPTTPQi0w",
        "colab_type": "code",
        "outputId": "5cfae1ed-00c1-45e9-f429-3d8432a064ba",
        "colab": {
          "base_uri": "https://localhost:8080/",
          "height": 34
        }
      },
      "source": [
        "maxlen = len(max(text, key=len))\n",
        "print(\"The longest string has {} characters\".format(maxlen))"
      ],
      "execution_count": 0,
      "outputs": [
        {
          "output_type": "stream",
          "text": [
            "The longest string has 15 characters\n"
          ],
          "name": "stdout"
        }
      ]
    },
    {
      "cell_type": "code",
      "metadata": {
        "id": "__iRr_1KQi0z",
        "colab_type": "code",
        "colab": {}
      },
      "source": [
        "# Padding\n",
        "\n",
        "# A simple loop that loops through the list of sentences and adds a ' ' whitespace until the length of the sentence matches\n",
        "# the length of the longest sentence\n",
        "for i in range(len(text)):\n",
        "    while len(text[i])<maxlen:\n",
        "        text[i] += ' '"
      ],
      "execution_count": 0,
      "outputs": []
    },
    {
      "cell_type": "markdown",
      "metadata": {
        "id": "DV4kdBuWQi02",
        "colab_type": "text"
      },
      "source": [
        "As we're going to predict the next character in the sequence at each time step, we'll have to divide each sentence into\n",
        "\n",
        "- Input data\n",
        "    - The last input character should be excluded as it does not need to be fed into the model\n",
        "- Target/Ground Truth Label\n",
        "    - One time-step ahead of the Input data as this will be the \"correct answer\" for the model at each time step corresponding to the input data"
      ]
    },
    {
      "cell_type": "code",
      "metadata": {
        "id": "jypA76gBQi02",
        "colab_type": "code",
        "outputId": "1839d6f8-eea6-43ab-831d-b5fa3fb3ba33",
        "colab": {
          "base_uri": "https://localhost:8080/",
          "height": 221
        }
      },
      "source": [
        "# Creating lists that will hold our input and target sequences\n",
        "input_seq = []\n",
        "target_seq = []\n",
        "\n",
        "for i in range(len(text)):\n",
        "    # Remove last character for input sequence\n",
        "    input_seq.append(text[i][:-1])\n",
        "    \n",
        "    # Remove firsts character for target sequence\n",
        "    target_seq.append(text[i][1:])\n",
        "    print(\"Input Sequence: {}\\nTarget Sequence: {}\".format(input_seq[i], target_seq[i]))"
      ],
      "execution_count": 0,
      "outputs": [
        {
          "output_type": "stream",
          "text": [
            "Input Sequence: hey guys      \n",
            "Target Sequence: ey guys       \n",
            "Input Sequence: good morning  \n",
            "Target Sequence: ood morning   \n",
            "Input Sequence: how are you   \n",
            "Target Sequence: ow are you    \n",
            "Input Sequence: fine, and you \n",
            "Target Sequence: ine, and you  \n",
            "Input Sequence: i am fine too \n",
            "Target Sequence:  am fine too  \n",
            "Input Sequence: have a nice da\n",
            "Target Sequence: ave a nice day\n"
          ],
          "name": "stdout"
        }
      ]
    },
    {
      "cell_type": "markdown",
      "metadata": {
        "id": "RB2MXGk3Qi06",
        "colab_type": "text"
      },
      "source": [
        "Now we can convert our input and target sequences to sequences of integers instead of characters by mapping them using the dictionaries we created above. This will allow us to one-hot-encode our input sequence subsequently."
      ]
    },
    {
      "cell_type": "code",
      "metadata": {
        "id": "9LNrRv_zQi07",
        "colab_type": "code",
        "colab": {}
      },
      "source": [
        "for i in range(len(text)):\n",
        "    input_seq[i] = [char2int[character] for character in input_seq[i]]\n",
        "    target_seq[i] = [char2int[character] for character in target_seq[i]]"
      ],
      "execution_count": 0,
      "outputs": []
    },
    {
      "cell_type": "markdown",
      "metadata": {
        "id": "SEztOmxvQi09",
        "colab_type": "text"
      },
      "source": [
        "Before encoding our input sequence into one-hot vectors, we'll define 3 key variables:\n",
        "\n",
        "- *dict_size*: The number of unique characters that we have in our text\n",
        "    - This will determine the one-hot vector size as each character will have an assigned index in that vector\n",
        "- *seq_len*: The length of the sequences that we're feeding into the model\n",
        "    - As we standardised the length of all our sentences to be equal to the longest sentences, this value will be the max length - 1 as we removed the last character input as well\n",
        "- *batch_size*: The number of sentences that we defined and are going to feed into the model as a batch"
      ]
    },
    {
      "cell_type": "code",
      "metadata": {
        "id": "aLFgKXdiQi0-",
        "colab_type": "code",
        "colab": {}
      },
      "source": [
        "dict_size = len(char2int)\n",
        "seq_len = maxlen - 1\n",
        "batch_size = len(text)\n",
        "\n",
        "def one_hot_encode(sequence, dict_size, seq_len, batch_size):\n",
        "    # Creating a multi-dimensional array of zeros with the desired output shape\n",
        "    features = np.zeros((batch_size, seq_len, dict_size), dtype=np.float32)\n",
        "    \n",
        "    # Replacing the 0 at the relevant character index with a 1 to represent that character\n",
        "    for i in range(batch_size):\n",
        "        for u in range(seq_len):\n",
        "            features[i, u, sequence[i][u]] = 1\n",
        "    return features"
      ],
      "execution_count": 0,
      "outputs": []
    },
    {
      "cell_type": "markdown",
      "metadata": {
        "id": "_XS_CKdJQi1A",
        "colab_type": "text"
      },
      "source": [
        "We also defined a helper function that creates arrays of zeros for each character and replaces the corresponding character index with a **1**."
      ]
    },
    {
      "cell_type": "code",
      "metadata": {
        "id": "hxxf6o9cQi1B",
        "colab_type": "code",
        "outputId": "bf7dac32-5152-400d-e82c-d8d2854ad0e6",
        "colab": {
          "base_uri": "https://localhost:8080/",
          "height": 34
        }
      },
      "source": [
        "input_seq = one_hot_encode(input_seq, dict_size, seq_len, batch_size)\n",
        "print(\"Input shape: {} --> (Batch Size, Sequence Length, One-Hot Encoding Size)\".format(input_seq.shape))"
      ],
      "execution_count": 0,
      "outputs": [
        {
          "output_type": "stream",
          "text": [
            "Input shape: (6, 14, 20) --> (Batch Size, Sequence Length, One-Hot Encoding Size)\n"
          ],
          "name": "stdout"
        }
      ]
    },
    {
      "cell_type": "markdown",
      "metadata": {
        "id": "tg1HCNzdQi1E",
        "colab_type": "text"
      },
      "source": [
        "Since we're done with all the data pre-processing, we can now move the data from numpy arrays to PyTorch's very own data structure - **Torch Tensors**"
      ]
    },
    {
      "cell_type": "code",
      "metadata": {
        "id": "txSEGw79Qi1E",
        "colab_type": "code",
        "colab": {}
      },
      "source": [
        "input_seq = torch.from_numpy(input_seq)\n",
        "target_seq = torch.Tensor(target_seq)"
      ],
      "execution_count": 0,
      "outputs": []
    },
    {
      "cell_type": "markdown",
      "metadata": {
        "id": "MShXTUSNQi1H",
        "colab_type": "text"
      },
      "source": [
        "Now we've reached the fun part of this project! We'll be defining the model using the Torch library, and this is where you can add or remove layers, be it fully connected layers, convolutational layers, vanilla RNN layers, LSTM layers, and many more! In this post, we'll be using the basic nn.rnn to demonstrate a simple example of how RNNs can be used.\n",
        "\n",
        "Before we start building the model, let's use a build in feature in PyTorch to check the device we're running on (CPU or GPU). This implementation will not require GPU as the training is really simple. However, as you progress on to large datasets and models with millions of trainable parameters, using the GPU will be very important to speed up your training."
      ]
    },
    {
      "cell_type": "code",
      "metadata": {
        "id": "qHVj6ywAQi1I",
        "colab_type": "code",
        "outputId": "bca60ce5-68c4-45a8-d176-6e2163bd1da7",
        "colab": {
          "base_uri": "https://localhost:8080/",
          "height": 34
        }
      },
      "source": [
        "# torch.cuda.is_available() checks and returns a Boolean True if a GPU is available, else it'll return False\n",
        "is_cuda = torch.cuda.is_available()\n",
        "\n",
        "# If we have a GPU available, we'll set our device to GPU. We'll use this device variable later in our code.\n",
        "if is_cuda:\n",
        "    device = torch.device(\"cuda\")\n",
        "    print(\"GPU is available\")\n",
        "else:\n",
        "    device = torch.device(\"cpu\")\n",
        "    print(\"GPU not available, CPU used\")"
      ],
      "execution_count": 0,
      "outputs": [
        {
          "output_type": "stream",
          "text": [
            "GPU not available, CPU used\n"
          ],
          "name": "stdout"
        }
      ]
    },
    {
      "cell_type": "markdown",
      "metadata": {
        "id": "jClyAlFrQi1Q",
        "colab_type": "text"
      },
      "source": [
        "To start building our own neural network model, we can define a class that inherits PyTorch’s base class (nn.module) for all neural network modules. After doing so, we can start defining some variables and also the layers for our model under the constructor. For this model, we’ll only be using 1 layer of RNN followed by a fully connected layer. The fully connected layer will be in-charge of converting the RNN output to our desired output shape.\n",
        "\n",
        "We’ll also have to define the forward pass function under forward() as a class method. The order the forward function is sequentially executed, therefore we’ll have to pass the inputs and the zero-initialized hidden state through the RNN layer first, before passing the RNN outputs to the fully-connected layer. Note that we are using the layers that we defined in the constructor.\n",
        "\n",
        "The last method that we have to define is the method that we called earlier to initialize the hidden state - init_hidden(). This basically creates a tensor of zeros in the shape of our hidden states."
      ]
    },
    {
      "cell_type": "code",
      "metadata": {
        "id": "bR-7kY0sQi1Q",
        "colab_type": "code",
        "colab": {}
      },
      "source": [
        "class Model(nn.Module):\n",
        "    def __init__(self, input_size, output_size, hidden_dim, n_layers):\n",
        "        super(Model, self).__init__()\n",
        "\n",
        "        # Defining some parameters\n",
        "        self.hidden_dim = hidden_dim\n",
        "        self.n_layers = n_layers\n",
        "\n",
        "        #Defining the layers\n",
        "        # RNN Layer\n",
        "        self.rnn = nn.RNN(input_size, hidden_dim, n_layers, batch_first=True)   \n",
        "        # Fully connected layer\n",
        "        self.fc = nn.Linear(hidden_dim, output_size)\n",
        "    \n",
        "    def forward(self, x):\n",
        "        \n",
        "        batch_size = x.size(0)\n",
        "\n",
        "        #Initializing hidden state for first input using method defined below\n",
        "        hidden = self.init_hidden(batch_size)\n",
        "\n",
        "        # Passing in the input and hidden state into the model and obtaining outputs\n",
        "        out, hidden = self.rnn(x, hidden)\n",
        "        \n",
        "        # Reshaping the outputs such that it can be fit into the fully connected layer\n",
        "        out = out.contiguous().view(-1, self.hidden_dim)\n",
        "        out = self.fc(out)\n",
        "        \n",
        "        return out, hidden\n",
        "    \n",
        "    def init_hidden(self, batch_size):\n",
        "        # This method generates the first hidden state of zeros which we'll use in the forward pass\n",
        "        hidden = torch.zeros(self.n_layers, batch_size, self.hidden_dim).to(device)\n",
        "         # We'll send the tensor holding the hidden state to the device we specified earlier as well\n",
        "        return hidden"
      ],
      "execution_count": 0,
      "outputs": []
    },
    {
      "cell_type": "markdown",
      "metadata": {
        "id": "2WrGCkj3Qi1T",
        "colab_type": "text"
      },
      "source": [
        "After defining the model above, we'll have to instantiate the model with the relevant parameters and define our hyperparamters as well. The hyperparameters we're defining below are:\n",
        "\n",
        "- *n_epochs*: Number of Epochs --> This refers to the number of times our model will go through the entire training dataset\n",
        "- *lr*: Learning Rate --> This affects the rate at which our model updates the weights in the cells each time backpropogation is done\n",
        "    - A smaller learning rate means that the model changes the values of the weight with a smaller magnitude\n",
        "    - A larger learning rate means that the weights are updated to a larger extent for each time step\n",
        "\n",
        "Similar to other neural networks, we have to define the optimizer and loss function as well. We’ll be using CrossEntropyLoss as the final output is basically a classification task."
      ]
    },
    {
      "cell_type": "code",
      "metadata": {
        "id": "2M2ecQmjQi1T",
        "colab_type": "code",
        "colab": {}
      },
      "source": [
        "# Instantiate the model with hyperparameters\n",
        "model = Model(input_size=dict_size, output_size=dict_size, hidden_dim=12, n_layers=1)\n",
        "# We'll also set the model to the device that we defined earlier (default is CPU)\n",
        "model = model.to(device)\n",
        "\n",
        "# Define hyperparameters\n",
        "n_epochs = 100\n",
        "lr=0.01\n",
        "\n",
        "# Define Loss, Optimizer\n",
        "criterion = nn.CrossEntropyLoss()\n",
        "optimizer = torch.optim.Adam(model.parameters(), lr=lr)"
      ],
      "execution_count": 0,
      "outputs": []
    },
    {
      "cell_type": "markdown",
      "metadata": {
        "id": "g9YbcIH0Qi1V",
        "colab_type": "text"
      },
      "source": [
        "Now we can begin our training! As we only have a few sentences, this training process is very fast. However, as we progress, larger datasets and deeper models mean that the input data is much larger and the number of parameters within the model that we have to compute is much more."
      ]
    },
    {
      "cell_type": "code",
      "metadata": {
        "scrolled": true,
        "id": "YwhjFO18Qi1W",
        "colab_type": "code",
        "outputId": "661cf972-2afc-448b-b67f-487b13745f67",
        "colab": {
          "base_uri": "https://localhost:8080/",
          "height": 187
        }
      },
      "source": [
        "# Training Run\n",
        "input_seq = input_seq.to(device)\n",
        "for epoch in range(1, n_epochs + 1):\n",
        "    optimizer.zero_grad() # Clears existing gradients from previous epoch\n",
        "    #input_seq = input_seq.to(device)\n",
        "    output, hidden = model(input_seq)\n",
        "    output = output.to(device)\n",
        "    target_seq = target_seq.to(device)\n",
        "    loss = criterion(output, target_seq.view(-1).long())\n",
        "    loss.backward() # Does backpropagation and calculates gradients\n",
        "    optimizer.step() # Updates the weights accordingly\n",
        "    \n",
        "    if epoch%10 == 0:\n",
        "        print('Epoch: {}/{}.............'.format(epoch, n_epochs), end=' ')\n",
        "        print(\"Loss: {:.4f}\".format(loss.item()))"
      ],
      "execution_count": 0,
      "outputs": [
        {
          "output_type": "stream",
          "text": [
            "Epoch: 10/100............. Loss: 2.4468\n",
            "Epoch: 20/100............. Loss: 2.3012\n",
            "Epoch: 30/100............. Loss: 2.1222\n",
            "Epoch: 40/100............. Loss: 1.9075\n",
            "Epoch: 50/100............. Loss: 1.6169\n",
            "Epoch: 60/100............. Loss: 1.3348\n",
            "Epoch: 70/100............. Loss: 1.0908\n",
            "Epoch: 80/100............. Loss: 0.8831\n",
            "Epoch: 90/100............. Loss: 0.7094\n",
            "Epoch: 100/100............. Loss: 0.5590\n"
          ],
          "name": "stdout"
        }
      ]
    },
    {
      "cell_type": "markdown",
      "metadata": {
        "id": "2IcTUzU0Qi1Y",
        "colab_type": "text"
      },
      "source": [
        "Let’s test our model now and see what kind of output we will get. Before that, let’s define some helper function to convert our model output back to text."
      ]
    },
    {
      "cell_type": "code",
      "metadata": {
        "id": "3UNSderwQi1Z",
        "colab_type": "code",
        "colab": {}
      },
      "source": [
        "def predict(model, character):\n",
        "    # One-hot encoding our input to fit into the model\n",
        "    character = np.array([[char2int[c] for c in character]])\n",
        "    character = one_hot_encode(character, dict_size, character.shape[1], 1)\n",
        "    character = torch.from_numpy(character)\n",
        "    character = character.to(device)\n",
        "    \n",
        "    out, hidden = model(character)\n",
        "\n",
        "    prob = nn.functional.softmax(out[-1], dim=0).data\n",
        "    # Taking the class with the highest probability score from the output\n",
        "    char_ind = torch.max(prob, dim=0)[1].item()\n",
        "\n",
        "    return int2char[char_ind], hidden"
      ],
      "execution_count": 0,
      "outputs": []
    },
    {
      "cell_type": "code",
      "metadata": {
        "id": "XEHS3hfZQi1b",
        "colab_type": "code",
        "colab": {}
      },
      "source": [
        "def sample(model, out_len, start='good'):\n",
        "    model.eval() # eval mode\n",
        "    start = start.lower()\n",
        "    # First off, run through the starting characters\n",
        "    chars = [ch for ch in start]\n",
        "    size = out_len - len(chars)\n",
        "    # Now pass in the previous characters and get a new one\n",
        "    for ii in range(size):\n",
        "        char, h = predict(model, chars)\n",
        "        chars.append(char)\n",
        "\n",
        "    return ''.join(chars)"
      ],
      "execution_count": 0,
      "outputs": []
    },
    {
      "cell_type": "code",
      "metadata": {
        "id": "VUGJcQtsQi1d",
        "colab_type": "code",
        "outputId": "14f12dca-6c36-4483-edc9-07137f4c4d22",
        "colab": {
          "base_uri": "https://localhost:8080/",
          "height": 34
        }
      },
      "source": [
        "sample(model, 15, 'how')"
      ],
      "execution_count": 0,
      "outputs": [
        {
          "output_type": "execute_result",
          "data": {
            "text/plain": [
              "'how are you    '"
            ]
          },
          "metadata": {
            "tags": []
          },
          "execution_count": 34
        }
      ]
    },
    {
      "cell_type": "markdown",
      "metadata": {
        "id": "xdIjKl9EQi1f",
        "colab_type": "text"
      },
      "source": [
        "As we can see, the model is able to come up with the sentence ‘how are you ‘ if we feed it with the words ‘good’, achieving what we intended for it to do!"
      ]
    },
    {
      "cell_type": "code",
      "metadata": {
        "id": "Bl1AES1pQi1g",
        "colab_type": "code",
        "colab": {}
      },
      "source": [
        ""
      ],
      "execution_count": 0,
      "outputs": []
    }
  ]
}