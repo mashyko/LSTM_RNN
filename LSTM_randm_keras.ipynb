{
  "nbformat": 4,
  "nbformat_minor": 0,
  "metadata": {
    "kernelspec": {
      "display_name": "Python 3",
      "language": "python",
      "name": "python3"
    },
    "language_info": {
      "codemirror_mode": {
        "name": "ipython",
        "version": 3
      },
      "file_extension": ".py",
      "mimetype": "text/x-python",
      "name": "python",
      "nbconvert_exporter": "python",
      "pygments_lexer": "ipython3",
      "version": "3.7.4"
    },
    "colab": {
      "name": "LSTM_randm.ipynb",
      "provenance": [],
      "collapsed_sections": []
    },
    "accelerator": "GPU"
  },
  "cells": [
    {
      "cell_type": "markdown",
      "metadata": {
        "id": "eH9ojweuSARi",
        "colab_type": "text"
      },
      "source": [
        "# LSTM code in Tensorflow 2.0\n",
        "\n",
        "Keras で ランダム系列の予測"
      ]
    },
    {
      "cell_type": "code",
      "metadata": {
        "id": "YLWnWY6fOtDo",
        "colab_type": "code",
        "colab": {}
      },
      "source": [
        "from random import randint\n",
        "import numpy as np\n",
        "\n",
        "from tensorflow.keras.models import Sequential\n",
        "from tensorflow.keras.layers import LSTM, Dense\n",
        "\n",
        "import matplotlib.pyplot as plt"
      ],
      "execution_count": 0,
      "outputs": []
    },
    {
      "cell_type": "code",
      "metadata": {
        "id": "mrupJxcEOtDu",
        "colab_type": "code",
        "colab": {}
      },
      "source": [
        "def generate_sequence(length, n_features):\n",
        "    \"\"\"長さがlengthで、ランダムな整数がn_featuresまでの系列を1つ生成する\"\"\"\n",
        "    return [randint(0, n_features - 1) for _ in range(length)]"
      ],
      "execution_count": 0,
      "outputs": []
    },
    {
      "cell_type": "code",
      "metadata": {
        "id": "YfCtjR82OtDx",
        "colab_type": "code",
        "colab": {}
      },
      "source": [
        "def one_hot_encode(sequence, n_features):\n",
        "    encoding = list()\n",
        "    for value in sequence:\n",
        "        vector = [0 for _ in range(n_features)]\n",
        "        vector[value] = 1\n",
        "        encoding.append(vector)\n",
        "    return np.array(encoding)\n",
        "\n",
        "def one_hot_decode(encoded_seq):\n",
        "    return [np.argmax(vector) for vector in encoded_seq]"
      ],
      "execution_count": 0,
      "outputs": []
    },
    {
      "cell_type": "markdown",
      "metadata": {
        "id": "Br98ibZUOtD0",
        "colab_type": "text"
      },
      "source": [
        "% sequence = generate_sequence(5, 10)\n",
        "[4, 6, 1, 7, 3]\n",
        "\n",
        "% encoded = one_hot_encode(sequence, 10)\n",
        "[[0 0 0 0 1 0 0 0 0 0]\n",
        " [0 0 0 0 0 0 1 0 0 0]\n",
        " [0 1 0 0 0 0 0 0 0 0]\n",
        " [0 0 0 0 0 0 0 1 0 0]\n",
        " [0 0 0 1 0 0 0 0 0 0]]\n",
        "\n",
        "% decoded = one_hot_decode(encoded)\n",
        "[4, 6, 1, 7, 3]"
      ]
    },
    {
      "cell_type": "code",
      "metadata": {
        "id": "qSLehwnfOtD0",
        "colab_type": "code",
        "colab": {}
      },
      "source": [
        "def generate_example(length, n_features, out_index):\n",
        "    # 訓練データを1サンプル（1系列）だけ生成する\n",
        "    sequence = generate_sequence(length, n_features)\n",
        "    encoded = one_hot_encode(sequence, n_features)\n",
        "    X = encoded.reshape((1, length, n_features))\n",
        "    y = encoded[out_index].reshape(1, n_features)\n",
        "    return X, y"
      ],
      "execution_count": 0,
      "outputs": []
    },
    {
      "cell_type": "markdown",
      "metadata": {
        "id": "mW6uZHQjOtD3",
        "colab_type": "text"
      },
      "source": [
        "% X, y = generate_example(5, 10, 2)\n",
        "% print(X.shape, y.shape)\n",
        "(1, 5, 10) (1, 10)\n",
        "% print(X)\n",
        "[[[0 0 0 1 0 0 0 0 0 0]\n",
        "  [0 0 0 0 0 0 0 0 0 1]\n",
        "  [0 0 0 0 0 1 0 0 0 0]\n",
        "  [0 0 1 0 0 0 0 0 0 0]\n",
        "  [0 0 0 0 0 0 0 0 1 0]]]\n",
        "% print(y)\n",
        "[[0 0 0 0 0 1 0 0 0 0]]"
      ]
    },
    {
      "cell_type": "code",
      "metadata": {
        "id": "bbinw38aOtD4",
        "colab_type": "code",
        "outputId": "625fecd3-dd36-4171-8b61-649442ff57fc",
        "colab": {
          "base_uri": "https://localhost:8080/",
          "height": 221
        }
      },
      "source": [
        "length = 5\n",
        "out_index = 2  # echo sequence predictionで入力の何番目の要素を返すか\n",
        "n_features = 10\n",
        "hidden_size = 25\n",
        "\n",
        "model = Sequential()\n",
        "model.add(LSTM(25, input_shape=(length, n_features)))\n",
        "model.add(Dense(n_features, activation='softmax'))\n",
        "model.compile(loss='categorical_crossentropy', optimizer='adam', metrics=['acc'])\n",
        "model.summary()"
      ],
      "execution_count": 0,
      "outputs": [
        {
          "output_type": "stream",
          "text": [
            "Model: \"sequential\"\n",
            "_________________________________________________________________\n",
            "Layer (type)                 Output Shape              Param #   \n",
            "=================================================================\n",
            "lstm (LSTM)                  (None, 25)                3600      \n",
            "_________________________________________________________________\n",
            "dense (Dense)                (None, 10)                260       \n",
            "=================================================================\n",
            "Total params: 3,860\n",
            "Trainable params: 3,860\n",
            "Non-trainable params: 0\n",
            "_________________________________________________________________\n"
          ],
          "name": "stdout"
        }
      ]
    },
    {
      "cell_type": "code",
      "metadata": {
        "id": "gKgNwmaZOtD8",
        "colab_type": "code",
        "outputId": "eb4ebf81-0a37-46e7-9aa8-94b76a6876ae",
        "colab": {
          "base_uri": "https://localhost:8080/",
          "height": 268
        }
      },
      "source": [
        "losses = []\n",
        "for i in range(10000):\n",
        "    X, y = generate_example(length, n_features, out_index)\n",
        "    history = model.fit(X, y, epochs=1, verbose=0)\n",
        "    losses.append(history.history['loss'][0])\n",
        "plt.plot(losses)\n",
        "plt.show()"
      ],
      "execution_count": 0,
      "outputs": [
        {
          "output_type": "display_data",
          "data": {
            "image/png": "[encoded data removed]",
            "text/plain": [
              "<Figure size 432x288 with 1 Axes>"
            ]
          },
          "metadata": {
            "tags": [],
            "needs_background": "light"
          }
        }
      ]
    },
    {
      "cell_type": "code",
      "metadata": {
        "id": "lK_JVGc-OtD_",
        "colab_type": "code",
        "outputId": "2d2b3623-27ee-4e37-aadb-06aafafae27f",
        "colab": {
          "base_uri": "https://localhost:8080/",
          "height": 34
        }
      },
      "source": [
        "# evaluate model\n",
        "correct = 0\n",
        "for i in range(100):\n",
        "    X, y = generate_example(length, n_features, out_index)\n",
        "    yhat = model.predict(X)\n",
        "    if one_hot_decode(yhat) == one_hot_decode(y):\n",
        "        correct += 1\n",
        "print('Accuracy: %f' % ((correct / 100) * 100.0))"
      ],
      "execution_count": 0,
      "outputs": [
        {
          "output_type": "stream",
          "text": [
            "Accuracy: 100.000000\n"
          ],
          "name": "stdout"
        }
      ]
    },
    {
      "cell_type": "code",
      "metadata": {
        "id": "s01VZctFOtEC",
        "colab_type": "code",
        "outputId": "02fc2d3c-6b4f-441e-cfc3-8bbac16d4b8a",
        "colab": {
          "base_uri": "https://localhost:8080/",
          "height": 68
        }
      },
      "source": [
        "# predict on new data\n",
        "X, y = generate_example(length, n_features, out_index)\n",
        "yhat = model.predict(X)\n",
        "print('Sequence: %s' % [one_hot_decode(x) for x in X])\n",
        "print('Expected: %s' % one_hot_decode(y))\n",
        "print('Predicted: %s' % one_hot_decode(yhat))"
      ],
      "execution_count": 0,
      "outputs": [
        {
          "output_type": "stream",
          "text": [
            "Sequence: [[2, 1, 7, 6, 5]]\n",
            "Expected: [7]\n",
            "Predicted: [7]\n"
          ],
          "name": "stdout"
        }
      ]
    },
    {
      "cell_type": "markdown",
      "metadata": {
        "id": "wDIB2ASERzFr",
        "colab_type": "text"
      },
      "source": [
        "以上\n"
      ]
    }
  ]
}