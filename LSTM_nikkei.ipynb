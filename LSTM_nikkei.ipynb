{
  "nbformat": 4,
  "nbformat_minor": 0,
  "metadata": {
    "kernelspec": {
      "display_name": "Python 3",
      "language": "python",
      "name": "python3"
    },
    "language_info": {
      "codemirror_mode": {
        "name": "ipython",
        "version": 3
      },
      "file_extension": ".py",
      "mimetype": "text/x-python",
      "name": "python",
      "nbconvert_exporter": "python",
      "pygments_lexer": "ipython3",
      "version": "3.7.4"
    },
    "colab": {
      "name": "LSTM_nikkei.ipynb",
      "provenance": [],
      "collapsed_sections": [],
      "include_colab_link": true
    }
  },
  "cells": [
    {
      "cell_type": "markdown",
      "metadata": {
        "id": "view-in-github",
        "colab_type": "text"
      },
      "source": [
        "<a href=\"https://colab.research.google.com/github/mashyko/LSTM_RNN/blob/master/LSTM_nikkei.ipynb\" target=\"_parent\"><img src=\"https://colab.research.google.com/assets/colab-badge.svg\" alt=\"Open In Colab\"/></a>"
      ]
    },
    {
      "cell_type": "markdown",
      "metadata": {
        "id": "nwHFil-C-VQL",
        "colab_type": "text"
      },
      "source": [
        "時系列予測：日経平均株価の例"
      ]
    },
    {
      "cell_type": "code",
      "metadata": {
        "id": "Ll7SaEqd9rBR",
        "colab_type": "code",
        "outputId": "2179e3e2-7ae3-4cea-a6bd-0521d8eec90c",
        "colab": {
          "base_uri": "https://localhost:8080/",
          "height": 136
        }
      },
      "source": [
        "! git clone https://github.com/mashyko/LSTM_RNN\n",
        "%cd LSTM_RNN"
      ],
      "execution_count": 0,
      "outputs": [
        {
          "output_type": "stream",
          "text": [
            "Cloning into 'LSTM_RNN'...\n",
            "remote: Enumerating objects: 12, done.\u001b[K\n",
            "remote: Counting objects:   8% (1/12)\u001b[K\rremote: Counting objects:  16% (2/12)\u001b[K\rremote: Counting objects:  25% (3/12)\u001b[K\rremote: Counting objects:  33% (4/12)\u001b[K\rremote: Counting objects:  41% (5/12)\u001b[K\rremote: Counting objects:  50% (6/12)\u001b[K\rremote: Counting objects:  58% (7/12)\u001b[K\rremote: Counting objects:  66% (8/12)\u001b[K\rremote: Counting objects:  75% (9/12)\u001b[K\rremote: Counting objects:  83% (10/12)\u001b[K\rremote: Counting objects:  91% (11/12)\u001b[K\rremote: Counting objects: 100% (12/12)\u001b[K\rremote: Counting objects: 100% (12/12), done.\u001b[K\n",
            "remote: Compressing objects:  11% (1/9)\u001b[K\rremote: Compressing objects:  22% (2/9)\u001b[K\rremote: Compressing objects:  33% (3/9)\u001b[K\rremote: Compressing objects:  44% (4/9)\u001b[K\rremote: Compressing objects:  55% (5/9)\u001b[K\rremote: Compressing objects:  66% (6/9)\u001b[K\rremote: Compressing objects:  77% (7/9)\u001b[K\rremote: Compressing objects:  88% (8/9)\u001b[K\rremote: Compressing objects: 100% (9/9)\u001b[K\rremote: Compressing objects: 100% (9/9), done.\u001b[K\n",
            "remote: Total 12 (delta 0), reused 0 (delta 0), pack-reused 0\u001b[K\n",
            "Unpacking objects:   8% (1/12)   \rUnpacking objects:  16% (2/12)   \rUnpacking objects:  25% (3/12)   \rUnpacking objects:  33% (4/12)   \rUnpacking objects:  41% (5/12)   \rUnpacking objects:  50% (6/12)   \rUnpacking objects:  58% (7/12)   \rUnpacking objects:  66% (8/12)   \rUnpacking objects:  75% (9/12)   \rUnpacking objects:  83% (10/12)   \rUnpacking objects:  91% (11/12)   \rUnpacking objects: 100% (12/12)   \rUnpacking objects: 100% (12/12), done.\n",
            "/content/LSTM_RNN\n"
          ],
          "name": "stdout"
        }
      ]
    },
    {
      "cell_type": "code",
      "metadata": {
        "scrolled": false,
        "id": "4NDkdPRB-VQN",
        "colab_type": "code",
        "outputId": "06ace766-e00a-4791-dece-2ee8c6ab7962",
        "colab": {
          "base_uri": "https://localhost:8080/",
          "height": 265
        }
      },
      "source": [
        "import numpy as np\n",
        "import pandas\n",
        "import matplotlib.pyplot as plt\n",
        "dataframe = pandas.read_csv('data/nikkei_data.csv', usecols=[1], engine='python', skipfooter=3)\n",
        "dataset = dataframe.values\n",
        "dataset = dataset.astype('float64')\n",
        "plt.plot(dataset)\n",
        "plt.show()"
      ],
      "execution_count": 0,
      "outputs": [
        {
          "output_type": "display_data",
          "data": {
            "image/png": "[encoded data removed]",
            "text/plain": [
              "<Figure size 432x288 with 1 Axes>"
            ]
          },
          "metadata": {
            "tags": [],
            "needs_background": "light"
          }
        }
      ]
    },
    {
      "cell_type": "code",
      "metadata": {
        "id": "VYJJHRYA-VQT",
        "colab_type": "code",
        "colab": {}
      },
      "source": [
        "import matplotlib.pyplot as plt\n",
        "import math\n",
        "from tensorflow.keras.models import Sequential\n",
        "from tensorflow.keras.layers import Dense, LSTM\n",
        "#from keras.layers import LSTM\n",
        "from sklearn.preprocessing import MinMaxScaler\n",
        "from sklearn.metrics import mean_squared_error"
      ],
      "execution_count": 0,
      "outputs": []
    },
    {
      "cell_type": "code",
      "metadata": {
        "id": "QkfsfUrb-VQW",
        "colab_type": "code",
        "colab": {}
      },
      "source": [
        "# fix random seed for reproducibility\n",
        "np.random.seed(7)"
      ],
      "execution_count": 0,
      "outputs": []
    },
    {
      "cell_type": "code",
      "metadata": {
        "id": "zzfmoPMb-VQZ",
        "colab_type": "code",
        "colab": {}
      },
      "source": [
        "# normalize the dataset\n",
        "scaler = MinMaxScaler(feature_range=(0, 1))\n",
        "dataset = scaler.fit_transform(dataset)"
      ],
      "execution_count": 0,
      "outputs": []
    },
    {
      "cell_type": "code",
      "metadata": {
        "id": "AoQZR_ee-VQc",
        "colab_type": "code",
        "outputId": "80d22d06-5331-40b6-d500-9e9784c034df",
        "colab": {
          "base_uri": "https://localhost:8080/",
          "height": 34
        }
      },
      "source": [
        "# split into train and test sets\n",
        "train_size = int(len(dataset) * 0.7)\n",
        "test_size = len(dataset) - train_size\n",
        "train, test = dataset[0:train_size,:], dataset[train_size:len(dataset),:]\n",
        "print(len(train), len(test))\n"
      ],
      "execution_count": 0,
      "outputs": [
        {
          "output_type": "stream",
          "text": [
            "170 74\n"
          ],
          "name": "stdout"
        }
      ]
    },
    {
      "cell_type": "code",
      "metadata": {
        "id": "RCyzsEop-VQf",
        "colab_type": "code",
        "colab": {}
      },
      "source": [
        "# convert an array of values into a dataset matrix\n",
        "def create_dataset(dataset, maxlen):\n",
        "    dataX, dataY = [], []\n",
        "    for i in range(len(dataset)-maxlen-1):\n",
        "#        a = dataset[i:(i+look_back), 0]\n",
        "        dataX.append(dataset[i:(i+maxlen),0])\n",
        "        dataY.append(dataset[i + maxlen,0])\n",
        "    return np.array(dataX), np.array(dataY)\n"
      ],
      "execution_count": 0,
      "outputs": []
    },
    {
      "cell_type": "code",
      "metadata": {
        "id": "TcZxU3Bq-VQi",
        "colab_type": "code",
        "colab": {}
      },
      "source": [
        "# reshape into X=t,t-1,t-2 and Y=t+1\n",
        "maxlen =20\n",
        "\n",
        "trainX, trainY = create_dataset(train, maxlen)\n",
        "testX, testY = create_dataset(test, maxlen)"
      ],
      "execution_count": 0,
      "outputs": []
    },
    {
      "cell_type": "code",
      "metadata": {
        "id": "Uvv7_PzC-VQn",
        "colab_type": "code",
        "outputId": "7e080be5-c324-4050-e5e6-e5bf1952437e",
        "colab": {
          "base_uri": "https://localhost:8080/",
          "height": 782
        }
      },
      "source": [
        "print (trainX.shape[0])\n",
        "print (trainX.shape[1])\n",
        "print (trainY.shape[0])\n",
        "\n",
        "print (trainX[:10,:])\n",
        "print (trainY[:10])"
      ],
      "execution_count": 0,
      "outputs": [
        {
          "output_type": "stream",
          "text": [
            "149\n",
            "20\n",
            "149\n",
            "[[0.00271726 0.00330386 0.02245822 0.0631939  0.08083054 0.10318814\n",
            "  0.1638088  0.19394941 0.21803536 0.22606728 0.25149005 0.25419714\n",
            "  0.32472687 0.35649396 0.32794498 0.33737105 0.41557706 0.41650876\n",
            "  0.41649124 0.53356416]\n",
            " [0.00330386 0.02245822 0.0631939  0.08083054 0.10318814 0.1638088\n",
            "  0.19394941 0.21803536 0.22606728 0.25149005 0.25419714 0.32472687\n",
            "  0.35649396 0.32794498 0.33737105 0.41557706 0.41650876 0.41649124\n",
            "  0.53356416 0.5672811 ]\n",
            " [0.02245822 0.0631939  0.08083054 0.10318814 0.1638088  0.19394941\n",
            "  0.21803536 0.22606728 0.25149005 0.25419714 0.32472687 0.35649396\n",
            "  0.32794498 0.33737105 0.41557706 0.41650876 0.41649124 0.53356416\n",
            "  0.5672811  0.5672811 ]\n",
            " [0.0631939  0.08083054 0.10318814 0.1638088  0.19394941 0.21803536\n",
            "  0.22606728 0.25149005 0.25419714 0.32472687 0.35649396 0.32794498\n",
            "  0.33737105 0.41557706 0.41650876 0.41649124 0.53356416 0.5672811\n",
            "  0.5672811  0.56988807]\n",
            " [0.08083054 0.10318814 0.1638088  0.19394941 0.21803536 0.22606728\n",
            "  0.25149005 0.25419714 0.32472687 0.35649396 0.32794498 0.33737105\n",
            "  0.41557706 0.41650876 0.41649124 0.53356416 0.5672811  0.5672811\n",
            "  0.56988807 0.67886592]\n",
            " [0.10318814 0.1638088  0.19394941 0.21803536 0.22606728 0.25149005\n",
            "  0.25419714 0.32472687 0.35649396 0.32794498 0.33737105 0.41557706\n",
            "  0.41650876 0.41649124 0.53356416 0.5672811  0.5672811  0.56988807\n",
            "  0.67886592 0.67226165]\n",
            " [0.1638088  0.19394941 0.21803536 0.22606728 0.25149005 0.25419714\n",
            "  0.32472687 0.35649396 0.32794498 0.33737105 0.41557706 0.41650876\n",
            "  0.41649124 0.53356416 0.5672811  0.5672811  0.56988807 0.67886592\n",
            "  0.67226165 0.65971457]\n",
            " [0.19394941 0.21803536 0.22606728 0.25149005 0.25419714 0.32472687\n",
            "  0.35649396 0.32794498 0.33737105 0.41557706 0.41650876 0.41649124\n",
            "  0.53356416 0.5672811  0.5672811  0.56988807 0.67886592 0.67226165\n",
            "  0.65971457 0.60735381]\n",
            " [0.21803536 0.22606728 0.25149005 0.25419714 0.32472687 0.35649396\n",
            "  0.32794498 0.33737105 0.41557706 0.41650876 0.41649124 0.53356416\n",
            "  0.5672811  0.5672811  0.56988807 0.67886592 0.67226165 0.65971457\n",
            "  0.60735381 0.52245321]\n",
            " [0.22606728 0.25149005 0.25419714 0.32472687 0.35649396 0.32794498\n",
            "  0.33737105 0.41557706 0.41650876 0.41649124 0.53356416 0.5672811\n",
            "  0.5672811  0.56988807 0.67886592 0.67226165 0.65971457 0.60735381\n",
            "  0.52245321 0.52217426]]\n",
            "[0.5672811  0.5672811  0.56988807 0.67886592 0.67226165 0.65971457\n",
            " 0.60735381 0.52245321 0.52217426 0.42132327]\n"
          ],
          "name": "stdout"
        }
      ]
    },
    {
      "cell_type": "code",
      "metadata": {
        "id": "LVgWz9Bx-VQp",
        "colab_type": "code",
        "outputId": "0901e475-43f8-4cfe-cae8-cc044ae581ce",
        "colab": {
          "base_uri": "https://localhost:8080/",
          "height": 850
        }
      },
      "source": [
        "# reshape input to be [samples, time steps, features]\n",
        "trainX = np.reshape(trainX, (trainX.shape[0], 1, trainX.shape[1]))\n",
        "testX = np.reshape(testX, (testX.shape[0], 1, testX.shape[1]))\n",
        "print(trainX[:10,:])\n"
      ],
      "execution_count": 0,
      "outputs": [
        {
          "output_type": "stream",
          "text": [
            "[[[0.00271726 0.00330386 0.02245822 0.0631939  0.08083054 0.10318814\n",
            "   0.1638088  0.19394941 0.21803536 0.22606728 0.25149005 0.25419714\n",
            "   0.32472687 0.35649396 0.32794498 0.33737105 0.41557706 0.41650876\n",
            "   0.41649124 0.53356416]]\n",
            "\n",
            " [[0.00330386 0.02245822 0.0631939  0.08083054 0.10318814 0.1638088\n",
            "   0.19394941 0.21803536 0.22606728 0.25149005 0.25419714 0.32472687\n",
            "   0.35649396 0.32794498 0.33737105 0.41557706 0.41650876 0.41649124\n",
            "   0.53356416 0.5672811 ]]\n",
            "\n",
            " [[0.02245822 0.0631939  0.08083054 0.10318814 0.1638088  0.19394941\n",
            "   0.21803536 0.22606728 0.25149005 0.25419714 0.32472687 0.35649396\n",
            "   0.32794498 0.33737105 0.41557706 0.41650876 0.41649124 0.53356416\n",
            "   0.5672811  0.5672811 ]]\n",
            "\n",
            " [[0.0631939  0.08083054 0.10318814 0.1638088  0.19394941 0.21803536\n",
            "   0.22606728 0.25149005 0.25419714 0.32472687 0.35649396 0.32794498\n",
            "   0.33737105 0.41557706 0.41650876 0.41649124 0.53356416 0.5672811\n",
            "   0.5672811  0.56988807]]\n",
            "\n",
            " [[0.08083054 0.10318814 0.1638088  0.19394941 0.21803536 0.22606728\n",
            "   0.25149005 0.25419714 0.32472687 0.35649396 0.32794498 0.33737105\n",
            "   0.41557706 0.41650876 0.41649124 0.53356416 0.5672811  0.5672811\n",
            "   0.56988807 0.67886592]]\n",
            "\n",
            " [[0.10318814 0.1638088  0.19394941 0.21803536 0.22606728 0.25149005\n",
            "   0.25419714 0.32472687 0.35649396 0.32794498 0.33737105 0.41557706\n",
            "   0.41650876 0.41649124 0.53356416 0.5672811  0.5672811  0.56988807\n",
            "   0.67886592 0.67226165]]\n",
            "\n",
            " [[0.1638088  0.19394941 0.21803536 0.22606728 0.25149005 0.25419714\n",
            "   0.32472687 0.35649396 0.32794498 0.33737105 0.41557706 0.41650876\n",
            "   0.41649124 0.53356416 0.5672811  0.5672811  0.56988807 0.67886592\n",
            "   0.67226165 0.65971457]]\n",
            "\n",
            " [[0.19394941 0.21803536 0.22606728 0.25149005 0.25419714 0.32472687\n",
            "   0.35649396 0.32794498 0.33737105 0.41557706 0.41650876 0.41649124\n",
            "   0.53356416 0.5672811  0.5672811  0.56988807 0.67886592 0.67226165\n",
            "   0.65971457 0.60735381]]\n",
            "\n",
            " [[0.21803536 0.22606728 0.25149005 0.25419714 0.32472687 0.35649396\n",
            "   0.32794498 0.33737105 0.41557706 0.41650876 0.41649124 0.53356416\n",
            "   0.5672811  0.5672811  0.56988807 0.67886592 0.67226165 0.65971457\n",
            "   0.60735381 0.52245321]]\n",
            "\n",
            " [[0.22606728 0.25149005 0.25419714 0.32472687 0.35649396 0.32794498\n",
            "   0.33737105 0.41557706 0.41650876 0.41649124 0.53356416 0.5672811\n",
            "   0.5672811  0.56988807 0.67886592 0.67226165 0.65971457 0.60735381\n",
            "   0.52245321 0.52217426]]]\n"
          ],
          "name": "stdout"
        }
      ]
    },
    {
      "cell_type": "code",
      "metadata": {
        "id": "87l0zByq-VQs",
        "colab_type": "code",
        "outputId": "0c8aa45a-d2c5-4f1f-fc4d-11b2da6fb074",
        "colab": {
          "base_uri": "https://localhost:8080/",
          "height": 1000
        }
      },
      "source": [
        "# create and fit the LSTM network\n",
        "\n",
        "#input_shape=(1, maxlen)\n",
        "\n",
        "model = Sequential()\n",
        "model.add(LSTM(20, input_shape=(1, maxlen)))\n",
        "model.add(Dense(1))\n",
        "model.compile(loss='mean_squared_error', optimizer='adam')\n",
        "model.fit(trainX, trainY, epochs=100, batch_size=1, verbose=2)\n"
      ],
      "execution_count": 0,
      "outputs": [
        {
          "output_type": "stream",
          "text": [
            "Epoch 1/100\n",
            "149/149 - 0s - loss: 0.0800\n",
            "Epoch 2/100\n",
            "149/149 - 0s - loss: 0.0243\n",
            "Epoch 3/100\n",
            "149/149 - 0s - loss: 0.0168\n",
            "Epoch 4/100\n",
            "149/149 - 0s - loss: 0.0132\n",
            "Epoch 5/100\n",
            "149/149 - 0s - loss: 0.0110\n",
            "Epoch 6/100\n",
            "149/149 - 0s - loss: 0.0094\n",
            "Epoch 7/100\n",
            "149/149 - 0s - loss: 0.0093\n",
            "Epoch 8/100\n",
            "149/149 - 0s - loss: 0.0080\n",
            "Epoch 9/100\n",
            "149/149 - 0s - loss: 0.0076\n",
            "Epoch 10/100\n",
            "149/149 - 0s - loss: 0.0067\n",
            "Epoch 11/100\n",
            "149/149 - 0s - loss: 0.0065\n",
            "Epoch 12/100\n",
            "149/149 - 0s - loss: 0.0065\n",
            "Epoch 13/100\n",
            "149/149 - 0s - loss: 0.0063\n",
            "Epoch 14/100\n",
            "149/149 - 0s - loss: 0.0071\n",
            "Epoch 15/100\n",
            "149/149 - 0s - loss: 0.0060\n",
            "Epoch 16/100\n",
            "149/149 - 0s - loss: 0.0061\n",
            "Epoch 17/100\n",
            "149/149 - 0s - loss: 0.0054\n",
            "Epoch 18/100\n",
            "149/149 - 0s - loss: 0.0055\n",
            "Epoch 19/100\n",
            "149/149 - 0s - loss: 0.0058\n",
            "Epoch 20/100\n",
            "149/149 - 0s - loss: 0.0054\n",
            "Epoch 21/100\n",
            "149/149 - 0s - loss: 0.0055\n",
            "Epoch 22/100\n",
            "149/149 - 0s - loss: 0.0049\n",
            "Epoch 23/100\n",
            "149/149 - 0s - loss: 0.0049\n",
            "Epoch 24/100\n",
            "149/149 - 0s - loss: 0.0051\n",
            "Epoch 25/100\n",
            "149/149 - 0s - loss: 0.0056\n",
            "Epoch 26/100\n",
            "149/149 - 0s - loss: 0.0050\n",
            "Epoch 27/100\n",
            "149/149 - 0s - loss: 0.0055\n",
            "Epoch 28/100\n",
            "149/149 - 0s - loss: 0.0046\n",
            "Epoch 29/100\n",
            "149/149 - 0s - loss: 0.0060\n",
            "Epoch 30/100\n",
            "149/149 - 0s - loss: 0.0052\n",
            "Epoch 31/100\n",
            "149/149 - 0s - loss: 0.0052\n",
            "Epoch 32/100\n",
            "149/149 - 0s - loss: 0.0046\n",
            "Epoch 33/100\n",
            "149/149 - 0s - loss: 0.0047\n",
            "Epoch 34/100\n",
            "149/149 - 0s - loss: 0.0048\n",
            "Epoch 35/100\n",
            "149/149 - 0s - loss: 0.0049\n",
            "Epoch 36/100\n",
            "149/149 - 0s - loss: 0.0047\n",
            "Epoch 37/100\n",
            "149/149 - 0s - loss: 0.0048\n",
            "Epoch 38/100\n",
            "149/149 - 0s - loss: 0.0052\n",
            "Epoch 39/100\n",
            "149/149 - 0s - loss: 0.0046\n",
            "Epoch 40/100\n",
            "149/149 - 0s - loss: 0.0044\n",
            "Epoch 41/100\n",
            "149/149 - 0s - loss: 0.0046\n",
            "Epoch 42/100\n",
            "149/149 - 0s - loss: 0.0052\n",
            "Epoch 43/100\n",
            "149/149 - 0s - loss: 0.0049\n",
            "Epoch 44/100\n",
            "149/149 - 0s - loss: 0.0048\n",
            "Epoch 45/100\n",
            "149/149 - 0s - loss: 0.0044\n",
            "Epoch 46/100\n",
            "149/149 - 0s - loss: 0.0042\n",
            "Epoch 47/100\n",
            "149/149 - 0s - loss: 0.0047\n",
            "Epoch 48/100\n",
            "149/149 - 0s - loss: 0.0046\n",
            "Epoch 49/100\n",
            "149/149 - 0s - loss: 0.0042\n",
            "Epoch 50/100\n",
            "149/149 - 0s - loss: 0.0046\n",
            "Epoch 51/100\n",
            "149/149 - 0s - loss: 0.0046\n",
            "Epoch 52/100\n",
            "149/149 - 0s - loss: 0.0046\n",
            "Epoch 53/100\n",
            "149/149 - 0s - loss: 0.0044\n",
            "Epoch 54/100\n",
            "149/149 - 0s - loss: 0.0050\n",
            "Epoch 55/100\n",
            "149/149 - 0s - loss: 0.0048\n",
            "Epoch 56/100\n",
            "149/149 - 0s - loss: 0.0043\n",
            "Epoch 57/100\n",
            "149/149 - 0s - loss: 0.0043\n",
            "Epoch 58/100\n",
            "149/149 - 0s - loss: 0.0046\n",
            "Epoch 59/100\n",
            "149/149 - 0s - loss: 0.0045\n",
            "Epoch 60/100\n",
            "149/149 - 0s - loss: 0.0044\n",
            "Epoch 61/100\n",
            "149/149 - 0s - loss: 0.0043\n",
            "Epoch 62/100\n",
            "149/149 - 0s - loss: 0.0051\n",
            "Epoch 63/100\n",
            "149/149 - 0s - loss: 0.0040\n",
            "Epoch 64/100\n",
            "149/149 - 0s - loss: 0.0040\n",
            "Epoch 65/100\n",
            "149/149 - 0s - loss: 0.0044\n",
            "Epoch 66/100\n",
            "149/149 - 0s - loss: 0.0044\n",
            "Epoch 67/100\n",
            "149/149 - 0s - loss: 0.0042\n",
            "Epoch 68/100\n",
            "149/149 - 0s - loss: 0.0040\n",
            "Epoch 69/100\n",
            "149/149 - 0s - loss: 0.0041\n",
            "Epoch 70/100\n",
            "149/149 - 0s - loss: 0.0042\n",
            "Epoch 71/100\n",
            "149/149 - 0s - loss: 0.0044\n",
            "Epoch 72/100\n",
            "149/149 - 0s - loss: 0.0042\n",
            "Epoch 73/100\n",
            "149/149 - 0s - loss: 0.0041\n",
            "Epoch 74/100\n",
            "149/149 - 0s - loss: 0.0045\n",
            "Epoch 75/100\n",
            "149/149 - 0s - loss: 0.0039\n",
            "Epoch 76/100\n",
            "149/149 - 0s - loss: 0.0040\n",
            "Epoch 77/100\n",
            "149/149 - 0s - loss: 0.0041\n",
            "Epoch 78/100\n",
            "149/149 - 0s - loss: 0.0046\n",
            "Epoch 79/100\n",
            "149/149 - 0s - loss: 0.0044\n",
            "Epoch 80/100\n",
            "149/149 - 0s - loss: 0.0044\n",
            "Epoch 81/100\n",
            "149/149 - 0s - loss: 0.0040\n",
            "Epoch 82/100\n",
            "149/149 - 0s - loss: 0.0052\n",
            "Epoch 83/100\n",
            "149/149 - 0s - loss: 0.0041\n",
            "Epoch 84/100\n",
            "149/149 - 0s - loss: 0.0040\n",
            "Epoch 85/100\n",
            "149/149 - 0s - loss: 0.0041\n",
            "Epoch 86/100\n",
            "149/149 - 0s - loss: 0.0044\n",
            "Epoch 87/100\n",
            "149/149 - 0s - loss: 0.0038\n",
            "Epoch 88/100\n",
            "149/149 - 0s - loss: 0.0040\n",
            "Epoch 89/100\n",
            "149/149 - 0s - loss: 0.0040\n",
            "Epoch 90/100\n",
            "149/149 - 0s - loss: 0.0046\n",
            "Epoch 91/100\n",
            "149/149 - 0s - loss: 0.0046\n",
            "Epoch 92/100\n",
            "149/149 - 0s - loss: 0.0040\n",
            "Epoch 93/100\n",
            "149/149 - 0s - loss: 0.0040\n",
            "Epoch 94/100\n",
            "149/149 - 0s - loss: 0.0037\n",
            "Epoch 95/100\n",
            "149/149 - 0s - loss: 0.0038\n",
            "Epoch 96/100\n",
            "149/149 - 0s - loss: 0.0040\n",
            "Epoch 97/100\n",
            "149/149 - 0s - loss: 0.0041\n",
            "Epoch 98/100\n",
            "149/149 - 0s - loss: 0.0037\n",
            "Epoch 99/100\n",
            "149/149 - 0s - loss: 0.0038\n",
            "Epoch 100/100\n",
            "149/149 - 0s - loss: 0.0041\n"
          ],
          "name": "stdout"
        },
        {
          "output_type": "execute_result",
          "data": {
            "text/plain": [
              "<tensorflow.python.keras.callbacks.History at 0x7fc8e32cde10>"
            ]
          },
          "metadata": {
            "tags": []
          },
          "execution_count": 15
        }
      ]
    },
    {
      "cell_type": "code",
      "metadata": {
        "id": "ITJET1es-VQu",
        "colab_type": "code",
        "outputId": "64fc17a0-8a45-45b4-e047-1b80496773f1",
        "colab": {
          "base_uri": "https://localhost:8080/",
          "height": 51
        }
      },
      "source": [
        "# 予想を遂行する\n",
        "trainPredict = model.predict(trainX)\n",
        "testPredict = model.predict(testX)\n",
        "# 予測を invert する\n",
        "trainPredict = scaler.inverse_transform(trainPredict)\n",
        "trainY = scaler.inverse_transform([trainY])\n",
        "testPredict = scaler.inverse_transform(testPredict)\n",
        "testY = scaler.inverse_transform([testY])\n",
        "# 平方平均二乗誤差 (RMSE, root mean squared error) を計算する\n",
        "trainScore = math.sqrt(mean_squared_error(trainY[0], trainPredict[:,0]))\n",
        "print('Train Score: %.2f RMSE' % (trainScore))\n",
        "testScore = math.sqrt(mean_squared_error(testY[0], testPredict[:,0]))\n",
        "print('Test Score: %.2f RMSE' % (testScore))"
      ],
      "execution_count": 0,
      "outputs": [
        {
          "output_type": "stream",
          "text": [
            "Train Score: 0.01 RMSE\n",
            "Test Score: 0.01 RMSE\n"
          ],
          "name": "stdout"
        }
      ]
    },
    {
      "cell_type": "markdown",
      "metadata": {
        "collapsed": true,
        "id": "YxfpeRC5-VQy",
        "colab_type": "text"
      },
      "source": [
        "http://tekenuko.hatenablog.com/entry/2017/07/25/005348"
      ]
    },
    {
      "cell_type": "code",
      "metadata": {
        "id": "Yfk4AF-z-VQz",
        "colab_type": "code",
        "outputId": "c18f9877-0ebe-48ee-d752-840ec74bb671",
        "colab": {
          "base_uri": "https://localhost:8080/",
          "height": 268
        }
      },
      "source": [
        "# shift train predictions for plotting\n",
        "trainPredictPlot = np.empty_like(dataset)\n",
        "trainPredictPlot[:, :] = np.nan\n",
        "trainPredictPlot[maxlen:len(trainPredict)+maxlen, :] = trainPredict\n",
        "# shift test predictions for plotting\n",
        "testPredictPlot = np.empty_like(dataset)\n",
        "testPredictPlot[:, :] = np.nan\n",
        "testPredictPlot[len(trainPredict)+(maxlen*2)+1:len(dataset)-1, :] = testPredict\n",
        "# plot baseline and predictions\n",
        "plt.plot(scaler.inverse_transform(dataset), color =\"g\", label = \"row\")\n",
        "plt.plot(trainPredictPlot,color=\"b\", label=\"trainpredict\")\n",
        "plt.plot(testPredictPlot,color=\"m\", label=\"testpredict\")\n",
        "\n",
        "plt.legend()\n",
        "plt.show()"
      ],
      "execution_count": 0,
      "outputs": [
        {
          "output_type": "display_data",
          "data": {
            "image/png": "[encoded data removed]",
            "text/plain": [
              "<Figure size 432x288 with 1 Axes>"
            ]
          },
          "metadata": {
            "tags": [],
            "needs_background": "light"
          }
        }
      ]
    },
    {
      "cell_type": "code",
      "metadata": {
        "id": "EnuzbA-J-VQ1",
        "colab_type": "code",
        "colab": {}
      },
      "source": [
        ""
      ],
      "execution_count": 0,
      "outputs": []
    }
  ]
}