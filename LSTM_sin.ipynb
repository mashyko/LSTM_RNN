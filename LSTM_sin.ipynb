{
  "nbformat": 4,
  "nbformat_minor": 0,
  "metadata": {
    "kernelspec": {
      "display_name": "Python 3",
      "language": "python",
      "name": "python3"
    },
    "language_info": {
      "codemirror_mode": {
        "name": "ipython",
        "version": 3
      },
      "file_extension": ".py",
      "mimetype": "text/x-python",
      "name": "python",
      "nbconvert_exporter": "python",
      "pygments_lexer": "ipython3",
      "version": "3.7.4"
    },
    "colab": {
      "name": "LSTM_sin.ipynb",
      "provenance": [],
      "collapsed_sections": [],
      "include_colab_link": true
    }
  },
  "cells": [
    {
      "cell_type": "markdown",
      "metadata": {
        "id": "view-in-github",
        "colab_type": "text"
      },
      "source": [
        "<a href=\"https://colab.research.google.com/github/mashyko/LSTM_RNN/blob/master/LSTM_sin.ipynb\" target=\"_parent\"><img src=\"https://colab.research.google.com/assets/colab-badge.svg\" alt=\"Open In Colab\"/></a>"
      ]
    },
    {
      "cell_type": "markdown",
      "metadata": {
        "id": "tFbOZMIN_Vdz",
        "colab_type": "text"
      },
      "source": [
        "#LSTM in Tensorflow 2.0\n",
        "\n",
        "　adopted from https://qiita.com/sasayabaku/items/b7872a3b8acc7d6261bf\n",
        "\n",
        "Kerasでsin波の時系列を予測\n"
      ]
    },
    {
      "cell_type": "code",
      "metadata": {
        "id": "J7rXwC95_Vd1",
        "colab_type": "code",
        "colab": {}
      },
      "source": [
        "from tensorflow.keras.models import Sequential\n",
        "from tensorflow.keras.layers import Dense, Activation\n",
        "from tensorflow.keras.layers import LSTM\n",
        "from tensorflow.keras.optimizers import Adam\n",
        "from tensorflow.keras.callbacks import EarlyStopping\n",
        "\n",
        "import sys\n",
        "import numpy as np\n",
        "import matplotlib.pyplot as plt\n",
        "import pandas as pd\n",
        "import math\n",
        "import random\n",
        "\n"
      ],
      "execution_count": 0,
      "outputs": []
    },
    {
      "cell_type": "markdown",
      "metadata": {
        "id": "dezKWLKf_Vd6",
        "colab_type": "text"
      },
      "source": [
        "データの作成:Sin波の生成"
      ]
    },
    {
      "cell_type": "code",
      "metadata": {
        "id": "w1QPLMg-_Vd7",
        "colab_type": "code",
        "colab": {}
      },
      "source": [
        "def sin(x, T=100):\n",
        "    return np.sin(2.0 * np.pi * x / T)\n",
        "\n",
        "# sin波にノイズを付与する\n",
        "def toy_problem(T=100, ampl=0.05):\n",
        "    x = np.arange(0, 2 * T + 1)\n",
        "    noise = ampl * np.random.uniform(low=-1.0, high=1.0, size=len(x))\n",
        "    return sin(x) + noise\n",
        "\n",
        "f = toy_problem()"
      ],
      "execution_count": 0,
      "outputs": []
    },
    {
      "cell_type": "markdown",
      "metadata": {
        "id": "iX1wK85O_Vd-",
        "colab_type": "text"
      },
      "source": [
        "Sin波をRNNに通すための形に成型\n",
        "\n",
        "以下のように学習データとして25ステップ分につき,ラベルデータを1つで1つの学習データを表現する．\n"
      ]
    },
    {
      "cell_type": "code",
      "metadata": {
        "id": "_PrVXz6D_Vd-",
        "colab_type": "code",
        "colab": {}
      },
      "source": [
        "def make_dataset(low_data, n_prev=100):\n",
        "\n",
        "    data, target = [], []\n",
        "    maxlen = 25\n",
        "\n",
        "    for i in range(len(low_data)-maxlen):\n",
        "        data.append(low_data[i:i + maxlen])\n",
        "        target.append(low_data[i + maxlen])\n",
        "\n",
        "    re_data = np.array(data).reshape(len(data), maxlen, 1)\n",
        "    re_target = np.array(target).reshape(len(data), 1)\n",
        "\n",
        "    return re_data, re_target\n",
        "\n",
        "\n",
        "#g -> 学習データ，h -> 学習ラベル\n",
        "g, h = make_dataset(f)\n",
        "\n",
        "future_test = g[175].T\n",
        "\n"
      ],
      "execution_count": 0,
      "outputs": []
    },
    {
      "cell_type": "markdown",
      "metadata": {
        "id": "MxnyegDi_VeB",
        "colab_type": "text"
      },
      "source": [
        "n_hidden: 隠れ層 -> 数が多い程，学習モデルの複雑さが増加\n",
        "\n",
        "batch_input_shape: LSTMに入力するデータの形を指定([バッチサイズ，step数，特徴の次元数]を指定する）\n",
        "\n",
        "Denseでニューロンの数を調節しているだけ．今回は，時間tにおけるsin波のy軸の値が出力なので，ノード数1にする．\n",
        "線形の活性化関数を用いている．\n",
        "\n",
        "compileで，誤差関数:最小2乗誤差，最適化手法: Adamを用いるように定義\n"
      ]
    },
    {
      "cell_type": "code",
      "metadata": {
        "id": "hmNHweFC_VeC",
        "colab_type": "code",
        "colab": {}
      },
      "source": [
        "# モデル構築\n",
        "\n",
        "# 1つの学習データのStep数(今回は25)\n",
        "length_of_sequence = g.shape[1] \n",
        "in_out_neurons = 1\n",
        "n_hidden = 300\n",
        "\n",
        "model = Sequential()\n",
        "model.add(LSTM(n_hidden, batch_input_shape=(None, length_of_sequence, in_out_neurons), return_sequences=False))\n",
        "model.add(Dense(in_out_neurons))\n",
        "model.add(Activation(\"linear\"))\n",
        "optimizer = Adam(lr=0.001)\n",
        "model.compile(loss=\"mean_squared_error\", optimizer=optimizer)\n"
      ],
      "execution_count": 0,
      "outputs": []
    },
    {
      "cell_type": "markdown",
      "metadata": {
        "id": "CFROlbaG_VeF",
        "colab_type": "text"
      },
      "source": [
        "学習\n",
        "\n",
        "生成した学習データ，定義したモデルを用いて，学習を行う．\n",
        "\n",
        "今回は，学習データの10%をvalidationに用いて，100 epochで学習させた．\n",
        "\n",
        "1行目のearly_stoppingをcallbacksで定義することで，validationの誤差値(val_loss)の変化が収束したと判定された場合に自動で学習を終了する．modeをautoにすることで，収束の判定を自動で行う．\n",
        "\n",
        "patienceは，判定値からpatienceの値の分だけのepochは学習して，変化がなければ終了するように判定する．なので，patience=0だと，val_lossが上昇した瞬間，学習が終了することになる．\n"
      ]
    },
    {
      "cell_type": "code",
      "metadata": {
        "id": "Cpfqv1Q2_VeF",
        "colab_type": "code",
        "outputId": "3a96a01d-b8c4-4f94-ab14-1214402477ff",
        "colab": {
          "base_uri": "https://localhost:8080/",
          "height": 1000
        }
      },
      "source": [
        "early_stopping = EarlyStopping(monitor='val_loss', mode='auto', patience=20)\n",
        "model.fit(g, h,\n",
        "          batch_size=300,\n",
        "          epochs=100,\n",
        "          validation_split=0.1,\n",
        "          callbacks=[early_stopping]\n",
        "          )"
      ],
      "execution_count": 0,
      "outputs": [
        {
          "output_type": "stream",
          "text": [
            "Epoch 1/100\n",
            "1/1 [==============================] - 0s 431ms/step - loss: 0.4940 - val_loss: 0.1080\n",
            "Epoch 2/100\n",
            "1/1 [==============================] - 0s 51ms/step - loss: 0.2939 - val_loss: 0.0387\n",
            "Epoch 3/100\n",
            "1/1 [==============================] - 0s 44ms/step - loss: 0.1624 - val_loss: 0.1213\n",
            "Epoch 4/100\n",
            "1/1 [==============================] - 0s 47ms/step - loss: 0.1201 - val_loss: 0.2187\n",
            "Epoch 5/100\n",
            "1/1 [==============================] - 0s 46ms/step - loss: 0.1146 - val_loss: 0.1472\n",
            "Epoch 6/100\n",
            "1/1 [==============================] - 0s 49ms/step - loss: 0.0725 - val_loss: 0.0649\n",
            "Epoch 7/100\n",
            "1/1 [==============================] - 0s 45ms/step - loss: 0.0442 - val_loss: 0.0274\n",
            "Epoch 8/100\n",
            "1/1 [==============================] - 0s 50ms/step - loss: 0.0382 - val_loss: 0.0163\n",
            "Epoch 9/100\n",
            "1/1 [==============================] - 0s 51ms/step - loss: 0.0395 - val_loss: 0.0139\n",
            "Epoch 10/100\n",
            "1/1 [==============================] - 0s 45ms/step - loss: 0.0381 - val_loss: 0.0127\n",
            "Epoch 11/100\n",
            "1/1 [==============================] - 0s 46ms/step - loss: 0.0314 - val_loss: 0.0111\n",
            "Epoch 12/100\n",
            "1/1 [==============================] - 0s 45ms/step - loss: 0.0211 - val_loss: 0.0101\n",
            "Epoch 13/100\n",
            "1/1 [==============================] - 0s 45ms/step - loss: 0.0112 - val_loss: 0.0114\n",
            "Epoch 14/100\n",
            "1/1 [==============================] - 0s 44ms/step - loss: 0.0072 - val_loss: 0.0146\n",
            "Epoch 15/100\n",
            "1/1 [==============================] - 0s 46ms/step - loss: 0.0101 - val_loss: 0.0145\n",
            "Epoch 16/100\n",
            "1/1 [==============================] - 0s 50ms/step - loss: 0.0109 - val_loss: 0.0088\n",
            "Epoch 17/100\n",
            "1/1 [==============================] - 0s 46ms/step - loss: 0.0058 - val_loss: 0.0033\n",
            "Epoch 18/100\n",
            "1/1 [==============================] - 0s 52ms/step - loss: 0.0028 - val_loss: 0.0027\n",
            "Epoch 19/100\n",
            "1/1 [==============================] - 0s 45ms/step - loss: 0.0040 - val_loss: 0.0045\n",
            "Epoch 20/100\n",
            "1/1 [==============================] - 0s 50ms/step - loss: 0.0055 - val_loss: 0.0052\n",
            "Epoch 21/100\n",
            "1/1 [==============================] - 0s 52ms/step - loss: 0.0053 - val_loss: 0.0042\n",
            "Epoch 22/100\n",
            "1/1 [==============================] - 0s 45ms/step - loss: 0.0039 - val_loss: 0.0026\n",
            "Epoch 23/100\n",
            "1/1 [==============================] - 0s 45ms/step - loss: 0.0027 - val_loss: 0.0015\n",
            "Epoch 24/100\n",
            "1/1 [==============================] - 0s 48ms/step - loss: 0.0028 - val_loss: 0.0013\n",
            "Epoch 25/100\n",
            "1/1 [==============================] - 0s 46ms/step - loss: 0.0043 - val_loss: 0.0013\n",
            "Epoch 26/100\n",
            "1/1 [==============================] - 0s 45ms/step - loss: 0.0056 - val_loss: 0.0012\n",
            "Epoch 27/100\n",
            "1/1 [==============================] - 0s 59ms/step - loss: 0.0050 - val_loss: 0.0020\n",
            "Epoch 28/100\n",
            "1/1 [==============================] - 0s 45ms/step - loss: 0.0033 - val_loss: 0.0039\n",
            "Epoch 29/100\n",
            "1/1 [==============================] - 0s 47ms/step - loss: 0.0023 - val_loss: 0.0056\n",
            "Epoch 30/100\n",
            "1/1 [==============================] - 0s 45ms/step - loss: 0.0023 - val_loss: 0.0062\n",
            "Epoch 31/100\n",
            "1/1 [==============================] - 0s 45ms/step - loss: 0.0027 - val_loss: 0.0054\n",
            "Epoch 32/100\n",
            "1/1 [==============================] - 0s 46ms/step - loss: 0.0026 - val_loss: 0.0038\n",
            "Epoch 33/100\n",
            "1/1 [==============================] - 0s 46ms/step - loss: 0.0020 - val_loss: 0.0025\n",
            "Epoch 34/100\n",
            "1/1 [==============================] - 0s 45ms/step - loss: 0.0017 - val_loss: 0.0025\n",
            "Epoch 35/100\n",
            "1/1 [==============================] - 0s 49ms/step - loss: 0.0017 - val_loss: 0.0034\n",
            "Epoch 36/100\n",
            "1/1 [==============================] - 0s 46ms/step - loss: 0.0020 - val_loss: 0.0042\n",
            "Epoch 37/100\n",
            "1/1 [==============================] - 0s 52ms/step - loss: 0.0019 - val_loss: 0.0043\n",
            "Epoch 38/100\n",
            "1/1 [==============================] - 0s 46ms/step - loss: 0.0017 - val_loss: 0.0040\n",
            "Epoch 39/100\n",
            "1/1 [==============================] - 0s 51ms/step - loss: 0.0017 - val_loss: 0.0035\n",
            "Epoch 40/100\n",
            "1/1 [==============================] - 0s 45ms/step - loss: 0.0017 - val_loss: 0.0031\n",
            "Epoch 41/100\n",
            "1/1 [==============================] - 0s 45ms/step - loss: 0.0018 - val_loss: 0.0026\n",
            "Epoch 42/100\n",
            "1/1 [==============================] - 0s 52ms/step - loss: 0.0016 - val_loss: 0.0022\n",
            "Epoch 43/100\n",
            "1/1 [==============================] - 0s 45ms/step - loss: 0.0014 - val_loss: 0.0018\n",
            "Epoch 44/100\n",
            "1/1 [==============================] - 0s 52ms/step - loss: 0.0012 - val_loss: 0.0015\n",
            "Epoch 45/100\n",
            "1/1 [==============================] - 0s 51ms/step - loss: 0.0013 - val_loss: 0.0014\n",
            "Epoch 46/100\n",
            "1/1 [==============================] - 0s 48ms/step - loss: 0.0014 - val_loss: 0.0014\n"
          ],
          "name": "stdout"
        },
        {
          "output_type": "execute_result",
          "data": {
            "text/plain": [
              "<tensorflow.python.keras.callbacks.History at 0x7fae1e629cf8>"
            ]
          },
          "metadata": {
            "tags": []
          },
          "execution_count": 5
        }
      ]
    },
    {
      "cell_type": "markdown",
      "metadata": {
        "id": "d8rfPaDf_VeJ",
        "colab_type": "text"
      },
      "source": [
        "学習データを予測して，sin波が再現できるか確認．"
      ]
    },
    {
      "cell_type": "code",
      "metadata": {
        "id": "Sa9_HW_tCV4Z",
        "colab_type": "code",
        "outputId": "74c6860e-004b-408a-a3a6-be947fa4cba5",
        "colab": {
          "base_uri": "https://localhost:8080/",
          "height": 265
        }
      },
      "source": [
        "predicted = model.predict(g)\n",
        "plt.figure()\n",
        "plt.plot(range(25,len(predicted)+25),predicted, color=\"r\", label=\"predict_data\")\n",
        "plt.plot(range(0, len(f)), f, color=\"b\", label=\"row_data\")\n",
        "plt.legend()\n",
        "plt.show()"
      ],
      "execution_count": 0,
      "outputs": [
        {
          "output_type": "display_data",
          "data": {
            "image/png": "[encoded data removed]",
            "text/plain": [
              "<Figure size 432x288 with 1 Axes>"
            ]
          },
          "metadata": {
            "tags": [],
            "needs_background": "light"
          }
        }
      ]
    },
    {
      "cell_type": "markdown",
      "metadata": {
        "id": "Yk54G6om_VeN",
        "colab_type": "text"
      },
      "source": [
        "未来の予測\n",
        "\n",
        "生成した学習モデルを用いて，学習データ以降の時間のsin波の座標を予測する．\n"
      ]
    },
    {
      "cell_type": "code",
      "metadata": {
        "id": "khyLkfXj_VeN",
        "colab_type": "code",
        "outputId": "b4e48da0-b4bc-4b7f-e4ef-5404751b34ac",
        "colab": {
          "base_uri": "https://localhost:8080/",
          "height": 265
        }
      },
      "source": [
        "#g -> 学習データ，h -> 学習ラベル\n",
        "g, h = make_dataset(f)\n",
        "\n",
        "future_test = g[175].T\n",
        "# 1つの学習データの時間の長さ -> 25\n",
        "time_length = future_test.shape[1]\n",
        "# 未来の予測データを保存していく変数\n",
        "future_result = np.empty((1))\n",
        "\n",
        "# 未来予想\n",
        "for step2 in range(400):\n",
        "\n",
        "    test_data = np.reshape(future_test, (1, time_length, 1))\n",
        "    batch_predict = model.predict(test_data)\n",
        "\n",
        "    future_test = np.delete(future_test, 0)\n",
        "    future_test = np.append(future_test, batch_predict)\n",
        "\n",
        "    future_result = np.append(future_result, batch_predict)\n",
        "\n",
        "predicted = model.predict(g)\n",
        "\n",
        "# sin波をプロット\n",
        "plt.figure()\n",
        "plt.plot(range(25,len(predicted)+25),predicted, color=\"r\", label=\"predict_data\")\n",
        "plt.plot(range(0, len(f)), f, color=\"b\", label=\"row_data\")\n",
        "plt.plot(range(0+len(f), len(future_result)+len(f)), future_result, color=\"g\", label=\"future\")\n",
        "plt.legend()\n",
        "plt.show()"
      ],
      "execution_count": 0,
      "outputs": [
        {
          "output_type": "display_data",
          "data": {
            "image/png": "[encoded data removed]",
            "text/plain": [
              "<Figure size 432x288 with 1 Axes>"
            ]
          },
          "metadata": {
            "tags": [],
            "needs_background": "light"
          }
        }
      ]
    },
    {
      "cell_type": "markdown",
      "metadata": {
        "id": "X-FVe7pPExgZ",
        "colab_type": "text"
      },
      "source": [
        "以上"
      ]
    }
  ]
}